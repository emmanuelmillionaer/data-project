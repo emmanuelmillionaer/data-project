{
 "cells": [
  {
   "cell_type": "code",
   "execution_count": 1,
   "metadata": {
    "collapsed": false
   },
   "outputs": [
    {
     "data": {
      "image/png": "[encoded data removed]",
      "text/plain": [
       "<matplotlib.figure.Figure at 0x10e32c450>"
      ]
     },
     "metadata": {},
     "output_type": "display_data"
    }
   ],
   "source": [
    "%matplotlib inline\n",
    "from yahoo_finance import Share\n",
    "import matplotlib.pyplot as plt\n",
    "from sklearn import svm, grid_search, datasets\n",
    "import datetime\n",
    "\n",
    "def format_date( date ):\n",
    "    return date.strftime(\"%Y-%m-%d\")\n",
    "\n",
    "yahoo = Share('YHOO')\n",
    "\n",
    "start_date = datetime.date(2016, 1, 1)\n",
    "end_date = datetime.date(2016, 4, 15)\n",
    "\n",
    "close = []\n",
    "opening = []\n",
    "\n",
    "historical_data = yahoo.get_historical(format_date(start_date), format_date(end_date))\n",
    "for dataset in historical_data:\n",
    "    close.append(dataset['Close'])\n",
    "    opening.append(dataset['Open'])\n",
    "\n",
    "date = range(len(close))\n",
    "\n",
    "plt.plot(date, close)\n",
    "plt.plot(date, opening)\n",
    "plt.show()\n"
   ]
  },
  {
   "cell_type": "markdown",
   "metadata": {},
   "source": [
    "Des soll Text sein"
   ]
  },
  {
   "cell_type": "code",
   "execution_count": 2,
   "metadata": {
    "collapsed": false
   },
   "outputs": [],
   "source": [
    "share_symbols = [{\"sy\": \"AAPL\", \"name\": \"Apple\"},\n",
    "                 {\"sy\": \"GOOGL\", \"name\":\"Google\"},\n",
    "                 {\"sy\": \"MSFT\", \"name\": \"Microsoft\"},\n",
    "                 {\"sy\": \"AMZN\", \"name\": \"AMAZON\"},\n",
    "                 {\"sy\": \"FB\", \"name\": \"FACEBOOK\"},\n",
    "                 {\"sy\": \"INTC\", \"name\": \"INTEL\"},\n",
    "                 {\"sy\": \"CSCO\", \"name\": \"CISCO\"},\n",
    "                 {\"sy\": \"KHZ\", \"name\": \"KRAFT HEINZ\"},\n",
    "                 {\"sy\": \"SBUX\", \"name\": \"Sturbucks\"},\n",
    "                 {\"sy\": \"QCOM\", \"name\": \"Qualcalm\"},\n",
    "                 {\"sy\": \"ADBE\", \"name\": \"ADOBE\"},\n",
    "                 {\"sy\": \"PYPL\", \"name\":\"Pay Pal\"},\n",
    "                 {\"sy\": \"NFLX\", \"name\": \"Netflix\"},\n",
    "                 {\"sy\": \"EBAY\", \"name\": \"Ebay\"},\n",
    "                 {\"sy\": \"TSLA\", \"name\": \"Tesla\"}]"
   ]
  },
  {
   "cell_type": "code",
   "execution_count": null,
   "metadata": {
    "collapsed": true
   },
   "outputs": [],
   "source": [
    "Dann von allen die Shares anzeigen"
   ]
  },
  {
   "cell_type": "code",
   "execution_count": 3,
   "metadata": {
    "collapsed": false
   },
   "outputs": [],
   "source": [
    "share_datasets = []\n",
    "\n",
    "for share_data in share_symbols:\n",
    "    share = Share(share_data[\"sy\"])\n",
    "    share_datasets.append(share.get_historical(format_date(start_date), format_date(end_date)))\n",
    "    "
   ]
  },
  {
   "cell_type": "code",
   "execution_count": 17,
   "metadata": {
    "collapsed": false
   },
   "outputs": [
    {
     "name": "stdout",
     "output_type": "stream",
     "text": [
      "[1]\n",
      "{'Volume': '84344400', 'Symbol': 'AAPL', 'Adj_Close': '81.038059', 'High': '595.979996', 'Low': '589.509995', 'Date': '2014-04-29', 'Close': '592.329979', 'Open': '593.739998'}\n"
     ]
    }
   ],
   "source": []
  },
  {
   "cell_type": "code",
   "execution_count": 4,
   "metadata": {
    "collapsed": true
   },
   "outputs": [],
   "source": [
    "def build_x_y( datasets ):\n",
    "    x = []\n",
    "    y = []\n",
    "    \n",
    "    for share_dataset in datasets:\n",
    "        for day_data in share_dataset:\n",
    "            high = round(float(day_data['High']))\n",
    "            low = round(float(day_data['Low']))\n",
    "            opening = round(float(day_data['Open']))\n",
    "            volume = round(float(day_data['Volume']))\n",
    "            \n",
    "            x.append([high, low, opening, volume])\n",
    "            y.append(round(float(day_data['Close'])))\n",
    "            \n",
    "    return x, y\n",
    "        "
   ]
  },
  {
   "cell_type": "markdown",
   "metadata": {},
   "source": [
    "Also dann versuch ich jezt des Predict zeug"
   ]
  },
  {
   "cell_type": "code",
   "execution_count": 5,
   "metadata": {
    "collapsed": false
   },
   "outputs": [],
   "source": [
    "from sklearn.cross_validation import train_test_split\n",
    "\n",
    "X, Y = build_x_y(share_datasets)\n",
    "\n",
    "X_train, X_test, y_train, y_test = train_test_split(X, Y, test_size=0.33)"
   ]
  },
  {
   "cell_type": "code",
   "execution_count": 6,
   "metadata": {
    "collapsed": false
   },
   "outputs": [
    {
     "name": "stdout",
     "output_type": "stream",
     "text": [
      "0.036036036036\n"
     ]
    }
   ],
   "source": [
    "from sklearn.svm import SVC\n",
    "clf = SVC()\n",
    "\n",
    "clf.fit(X_train, y_train) \n",
    "\n",
    "#print clf.predict([3344,5555])\n",
    "\n",
    "print(clf.score(X_test, y_test))\n",
    "\n",
    "\n",
    "#for i in range(len(X) - 50):\n",
    " #   print \"_________\"\n",
    " #   print  clf.predict(X[i])\n",
    " #   print  Y[i]"
   ]
  },
  {
   "cell_type": "markdown",
   "metadata": {
    "collapsed": true
   },
   "source": [
    "Hier erstmal abchecken wie ich den Besten Score erreiche\n",
    "\n",
    "Also in den neune Predictor hau ich dann rein \n",
    "Momenentaner stand und den Abstand zu dem Tag wo ichs wusste\n",
    "am besten Performe ich des ganze noch mit mehreern aufeinanderfolgenden Tagen und runde des ganze dan "
   ]
  },
  {
   "cell_type": "code",
   "execution_count": null,
   "metadata": {
    "collapsed": false
   },
   "outputs": [],
   "source": [
    "def get_perc_change(start_val, end_val):\n",
    "    return round((end_val / (start_val / 100.00) ) - 100.00)\n",
    "    \n",
    "\n",
    "def build_x_y_improved( datasets , time_series_len):\n",
    "    x = []\n",
    "    y = []\n",
    "    \n",
    "    for hallo_dataset in datasets:\n",
    "        days_len = len(hallo_dataset)\n",
    "        for i in range(days_len):\n",
    "            if i + time_series_len < days_len:\n",
    "                days_percs = []\n",
    "                \n",
    "                for i_2 in range(time_series_len + 1):\n",
    "                    days_percs.append(float(hallo_dataset[i + i_2]['Volume']))\n",
    "                \n",
    "                x_data = []\n",
    "                for i_3 in range(time_series_len):\n",
    "                    x_data.append(get_perc_change(days_percs[i_3], days_percs[i_3 + 1]))\n",
    "                    \n",
    "                x.append(x_data[:-1])\n",
    "                y.append(x_data[-1])\n",
    "            \n",
    "    return x, y\n",
    "        "
   ]
  },
  {
   "cell_type": "code",
   "execution_count": null,
   "metadata": {
    "collapsed": false
   },
   "outputs": [],
   "source": [
    "parameters = { 'C': [1, 1.5, 1.8]}\n",
    "\n",
    "X_2, Y_2 = build_x_y_improved(share_datasets, 4)\n",
    "X_train_2, X_test_2, y_train_2, y_test_2 = train_test_split(X_2, Y_2, test_size=0.33)\n",
    "\n",
    "svr = svm.SVC(kernel=\"linear\")\n",
    "clf_best = grid_search.GridSearchCV(svr, parameters)\n",
    "clf_best.fit(X_train_2, y_train_2)\n",
    "\n",
    "print clf_best.best_estimator_\n",
    "print \"___ _____ ____ _____ ____\"\n",
    "print clf_best.best_score_\n",
    "print \"___ _____ ____ _____ ____\"\n",
    "print clf_best.best_params_\n",
    "\n",
    "clf_2 = SVC(kernel=\"linear\", C=1.5)\n",
    "\n",
    "clf_2.fit(X_train_2, y_train_2) \n",
    "\n",
    "#print clf.predict([3344,5555])\n",
    "\n",
    "print(clf_2.score(X_test_2, y_test_2))\n",
    "print clf_2"
   ]
  },
  {
   "cell_type": "code",
   "execution_count": null,
   "metadata": {
    "collapsed": true
   },
   "outputs": [],
   "source": []
  },
  {
   "cell_type": "code",
   "execution_count": null,
   "metadata": {
    "collapsed": false
   },
   "outputs": [],
   "source": [
    "for i in [2,3,4,5,6,7,8,9,10]:\n",
    "    X_3, Y_3 = build_x_y_improved(share_datasets, i)\n",
    "    X_train_3, X_test_3, y_train_3, y_test_3 = train_test_split(X_3, Y_3, test_size=0.33)\n",
    "\n",
    "    clf_3 = SVC(kernel=\"linear\", C=1.5)\n",
    "\n",
    "    clf_3.fit(X_train_3, y_train_3) \n",
    "\n",
    "    print(i)\n",
    "    print(clf_3.score(X_test_3, y_test_3))"
   ]
  },
  {
   "cell_type": "code",
   "execution_count": null,
   "metadata": {
    "collapsed": true
   },
   "outputs": [],
   "source": [
    "def draw_share_line_for(symbol, start_date, end_date):\n",
    "    closes = []\n",
    "    share = Share(symbol)\n",
    "    historical_data = share.get_historical(format_date(start_date), format_date(end_date))\n",
    "    for dataset in historical_data:\n",
    "        closes.append(dataset['Close'])\n",
    "        \n",
    "    dates_range = range(len(closes))\n",
    "    return dates_range, closes\n",
    "    \n",
    "\n"
   ]
  },
  {
   "cell_type": "code",
   "execution_count": null,
   "metadata": {
    "collapsed": true
   },
   "outputs": [],
   "source": [
    "def do_prediction_for(closes, predictor, ranges):\n",
    "    predictions = []\n",
    "    \n",
    "    for i in range(len(closes)):\n",
    "        if i > ranges:\n",
    "            days_percs = []\n",
    "                \n",
    "            for i_2 in range(ranges):\n",
    "                days_percs.append(float(closes[i - ranges + i_2]))\n",
    "                \n",
    "            x_data = []\n",
    "            for i_3 in range(ranges + 1):\n",
    "                x_data.append(get_perc_change(days_percs[i_3], days_percs[i_3 + 1]))\n",
    "            \n",
    "            predictions.append(predictor.predict(x_data))\n",
    "        else:\n",
    "            predictions.append(0)\n",
    "    \n",
    "    \n",
    "    \n",
    "    return predictions\n",
    "    "
   ]
  },
  {
   "cell_type": "code",
   "execution_count": null,
   "metadata": {
    "collapsed": false
   },
   "outputs": [],
   "source": [
    "X_final, Y_final = build_x_y_improved(share_datasets, 3)\n",
    "clf_final = SVC(kernel=\"linear\", C=1.5)\n",
    "clf_final.fit(X_final, Y_final) "
   ]
  },
  {
   "cell_type": "code",
   "execution_count": null,
   "metadata": {
    "collapsed": false
   },
   "outputs": [],
   "source": [
    "dates_range1, closes1 = draw_share_line_for('MAR', datetime.date(2016, 1, 1), datetime.date(2016, 3, 5))\n",
    "preditions1 = do_prediction_for(closes1, clf_final, 3)\n",
    "\n",
    "dates_range2, closes2 = draw_share_line_for('QCOM', datetime.date(2016, 1, 1), datetime.date(2016, 3, 5))\n",
    "preditions2 = do_prediction_for(closes2, clf_final, 3)\n",
    "\n",
    "print(preditions2)\n",
    "\n",
    "plt.plot(dates_range1, closes1)\n",
    "plt.plot(dates_range1, preditions1)\n",
    "plt.plot(dates_range1, closes2)\n",
    "plt.plot(dates_range1, preditions2)\n",
    "plt.show()"
   ]
  }
 ],
 "metadata": {
  "kernelspec": {
   "display_name": "Python 2",
   "language": "python",
   "name": "python2"
  },
  "language_info": {
   "codemirror_mode": {
    "name": "ipython",
    "version": 2
   },
   "file_extension": ".py",
   "mimetype": "text/x-python",
   "name": "python",
   "nbconvert_exporter": "python",
   "pygments_lexer": "ipython2",
   "version": "2.7.11"
  }
 },
 "nbformat": 4,
 "nbformat_minor": 0
}
